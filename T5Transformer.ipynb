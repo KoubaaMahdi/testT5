{
 "cells": [
  {
   "cell_type": "code",
   "execution_count": null,
   "id": "37dedf91-dcaa-43b5-acb7-f419b3e5ba16",
   "metadata": {},
   "outputs": [
    {
     "name": "stdout",
     "output_type": "stream",
     "text": [
      "                      url     login      password  \\\n",
      "0  http://FYlF13wL3m.info  mBXoS0WR  TE8EcMCl7mIn   \n",
      "1   http://dajcTiVFzQ.com  ZV8T2LpD  RLmvvLLyDZOZ   \n",
      "2   http://n3YiTeUkap.org  5ELt50Vl  SVzO4K2nrTIj   \n",
      "3                     NaN  dbrpO9rF  5f4WtPt3DHYm   \n",
      "4  http://CJdxqiA5W0.info  8NbSixAI  d3v2L0Oc1To5   \n",
      "\n",
      "                                            raw  \n",
      "0  http://FYlF13wL3m.info|mBXoS0WR|TE8EcMCl7mIn  \n",
      "1   ZV8T2LpD,RLmvvLLyDZOZ,http://dajcTiVFzQ.com  \n",
      "2   http://n3YiTeUkap.org:5ELt50Vl:SVzO4K2nrTIj  \n",
      "3                         dbrpO9rF-5f4WtPt3DHYm  \n",
      "4  http://CJdxqiA5W0.info~8NbSixAI~d3v2L0Oc1To5  \n"
     ]
    },
    {
     "name": "stderr",
     "output_type": "stream",
     "text": [
      "You are using the default legacy behaviour of the <class 'transformers.models.t5.tokenization_t5.T5Tokenizer'>. This is expected, and simply means that the `legacy` (previous) behavior will be used so nothing changes for you. If you want to use the new behaviour, set `legacy=False`. This should only be set if you understand what it means, and thoroughly read the reason why this was added as explained in https://github.com/huggingface/transformers/pull/24565\n",
      "Special tokens have been added in the vocabulary, make sure the associated word embeddings are fine-tuned or trained.\n"
     ]
    },
    {
     "name": "stdout",
     "output_type": "stream",
     "text": [
      "cuda\n"
     ]
    },
    {
     "data": {
      "application/vnd.jupyter.widget-view+json": {
       "model_id": "ca29ac9c924446b8809396d47cf14c83",
       "version_major": 2,
       "version_minor": 0
      },
      "text/plain": [
       "Map:   0%|          | 0/100003 [00:00<?, ? examples/s]"
      ]
     },
     "metadata": {},
     "output_type": "display_data"
    },
    {
     "name": "stderr",
     "output_type": "stream",
     "text": [
      "/home/mahdikoubaa/test/lib/python3.10/site-packages/transformers/training_args.py:1494: FutureWarning: `evaluation_strategy` is deprecated and will be removed in version 4.46 of 🤗 Transformers. Use `eval_strategy` instead\n",
      "  warnings.warn(\n"
     ]
    },
    {
     "data": {
      "text/html": [
       "\n",
       "    <div>\n",
       "      \n",
       "      <progress value='6' max='45001' style='width:300px; height:20px; vertical-align: middle;'></progress>\n",
       "      [    6/45001 00:04 < 13:34:18, 0.92 it/s, Epoch 0.00/1]\n",
       "    </div>\n",
       "    <table border=\"1\" class=\"dataframe\">\n",
       "  <thead>\n",
       " <tr style=\"text-align: left;\">\n",
       "      <th>Epoch</th>\n",
       "      <th>Training Loss</th>\n",
       "      <th>Validation Loss</th>\n",
       "    </tr>\n",
       "  </thead>\n",
       "  <tbody>\n",
       "  </tbody>\n",
       "</table><p>"
      ],
      "text/plain": [
       "<IPython.core.display.HTML object>"
      ]
     },
     "metadata": {},
     "output_type": "display_data"
    }
   ],
   "source": [
    "import os\n",
    "import pandas as pd\n",
    "from transformers import T5Tokenizer, T5ForConditionalGeneration, Trainer, TrainingArguments\n",
    "from datasets import Dataset\n",
    "import torch\n",
    "\n",
    "# Step 1: Load and prepare the data\n",
    "df = pd.read_csv('random_data.csv')\n",
    "\n",
    "# Print the first few rows to verify the columns\n",
    "print(df.head())\n",
    "\n",
    "# Rename columns for clarity if needed\n",
    "if 'raw' in df.columns and 'login' in df.columns and 'password' in df.columns and 'url' in df.columns:\n",
    "    df = df.rename(columns={'raw': 'input_text', 'login': 'login_text', 'password': 'password_text', 'url': 'url_text'})\n",
    "else:\n",
    "    print(\"Error: The expected columns 'Raw', 'Login', 'Password', and 'url' were not found in the dataset.\")\n",
    "    print(\"Available columns: \", df.columns)\n",
    "    raise KeyError(\"Expected columns not found.\")\n",
    "\n",
    "# Convert the dataframe to a Hugging Face dataset\n",
    "dataset = Dataset.from_pandas(df)\n",
    "\n",
    "# Tokenizer and model initialization\n",
    "model_name = 't5-base'\n",
    "tokenizer = T5Tokenizer.from_pretrained(model_name)\n",
    "model = T5ForConditionalGeneration.from_pretrained(model_name)\n",
    "\n",
    "# Ensure model is on the GPU\n",
    "device = torch.device(\"cuda\" if torch.cuda.is_available() else \"cpu\")\n",
    "print(device)\n",
    "model.to(device)\n",
    "\n",
    "def preprocess_function(examples):\n",
    "    inputs = [f\"clean: {text}\" for text in examples['input_text']]\n",
    "    model_inputs = tokenizer(inputs, max_length=128, truncation=True, padding='max_length')\n",
    "    \n",
    "    # Combine url, login, and password into a single target string\n",
    "    targets = [f\"url: {url} login: {login} password: {password}\" for url, login, password in zip(examples['url_text'], examples['login_text'], examples['password_text'])]\n",
    "    labels = tokenizer(targets, max_length=128, truncation=True, padding='max_length')['input_ids']\n",
    "    \n",
    "    model_inputs['labels'] = labels\n",
    "    return model_inputs\n",
    "\n",
    "# Ensure columns exist in the dataset before mapping\n",
    "if 'input_text' in dataset.column_names and 'login_text' in dataset.column_names and 'password_text' in dataset.column_names and 'url_text' in dataset.column_names:\n",
    "    tokenized_datasets = dataset.map(preprocess_function, batched=True, remove_columns=dataset.column_names)\n",
    "else:\n",
    "    print(\"Error: The expected columns 'input_text', 'login_text', 'password_text', and 'url_text' were not found in the dataset.\")\n",
    "    print(\"Available columns: \", dataset.column_names)\n",
    "    raise KeyError(\"Expected columns not found.\")\n",
    "\n",
    "# Split the dataset into training and validation sets\n",
    "tokenized_datasets = tokenized_datasets.train_test_split(test_size=0.1)\n",
    "\n",
    "# Adjust the data collator to handle padding\n",
    "def data_collator(features):\n",
    "    batch = {}\n",
    "    for key in features[0].keys():\n",
    "        batch[key] = torch.stack([torch.tensor(f[key]) for f in features])\n",
    "    \n",
    "    # Convert dictionary of tensors to a dictionary of lists for tokenizer.pad\n",
    "    batch = {k: v.tolist() for k, v in batch.items()}\n",
    "    \n",
    "    # Pad inputs and labels to the same length\n",
    "    batch = tokenizer.pad(batch, return_tensors='pt')\n",
    "    return batch\n",
    "\n",
    "# Create necessary directories with a different name\n",
    "output_dir = './training_results_t5'\n",
    "os.makedirs(output_dir, exist_ok=True)\n",
    "\n",
    "# Step 4: Define the training arguments and trainer\n",
    "training_args = TrainingArguments(\n",
    "    output_dir=output_dir,\n",
    "    evaluation_strategy='epoch',\n",
    "    learning_rate=5e-5,\n",
    "    per_device_train_batch_size=2,\n",
    "    per_device_eval_batch_size=2,\n",
    "    num_train_epochs=1,\n",
    "    weight_decay=0.01,\n",
    ")\n",
    "\n",
    "trainer = Trainer(\n",
    "    model=model,\n",
    "    args=training_args,\n",
    "    train_dataset=tokenized_datasets['train'],\n",
    "    eval_dataset=tokenized_datasets['test'],\n",
    "    data_collator=data_collator\n",
    ")\n",
    "\n",
    "# Step 5: Train the model\n",
    "trainer.train()\n",
    "\n",
    "# Step 6: Save the model\n",
    "model.save_pretrained('./cleaning_model_t5')\n",
    "tokenizer.save_pretrained('./cleaning_model_t5')\n",
    "\n"
   ]
  },
  {
   "cell_type": "code",
   "execution_count": null,
   "id": "43f8d32a-9568-40ab-b550-a3ce806f6c75",
   "metadata": {},
   "outputs": [],
   "source": []
  }
 ],
 "metadata": {
  "kernelspec": {
   "display_name": "Python 3 (ipykernel)",
   "language": "python",
   "name": "python3"
  },
  "language_info": {
   "codemirror_mode": {
    "name": "ipython",
    "version": 3
   },
   "file_extension": ".py",
   "mimetype": "text/x-python",
   "name": "python",
   "nbconvert_exporter": "python",
   "pygments_lexer": "ipython3",
   "version": "3.10.12"
  }
 },
 "nbformat": 4,
 "nbformat_minor": 5
}
